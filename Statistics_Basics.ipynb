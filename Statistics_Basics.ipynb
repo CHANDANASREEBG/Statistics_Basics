{
  "nbformat": 4,
  "nbformat_minor": 0,
  "metadata": {
    "colab": {
      "provenance": []
    },
    "kernelspec": {
      "name": "python3",
      "display_name": "Python 3"
    },
    "language_info": {
      "name": "python"
    }
  },
  "cells": [
    {
      "cell_type": "markdown",
      "source": [
        "**1. Explain the different types of data (qualitative and quantitative) and provide examples of each. Discuss nominal, ordinal, interval, and ratio scales.**\n",
        "* *Qualitative Data* (Categorical): Data that describes qualities or characteristics.\n",
        "\n",
        " * Examples: Colors (red, blue), Gender (male, female), Brands (Nike, Adidas)\n",
        "\n",
        "* *Quantitative Data* (Numerical): Data that can be measured and expressed in numbers.\n",
        "\n",
        "  * Examples: Age, Height, Temperature, Salary\n",
        "\n",
        "**Measurement Scales:**\n",
        "\n",
        "* *Nominal*: Categories without any order (e.g., blood group: A, B, AB, O)\n",
        "\n",
        "* *Ordinal*: Categories with a logical order (e.g., rating: poor, average, good)\n",
        "\n",
        "* *Interval*: Numeric scale with equal intervals, no true zero (e.g., temperature in Celsius)\n",
        "\n",
        "**Ratio**: Numeric scale with equal intervals and true zero (e.g., weight, height)"
      ],
      "metadata": {
        "id": "d1UDkQyujSs3"
      }
    },
    {
      "cell_type": "markdown",
      "source": [
        "**2. What are the measures of central tendency, and when should you use each? Discuss the mean, median,and mode with examples and situations where each is appropriate.**\n",
        "* **Mean**: The average of the data. Use it when data is normally distributed.\n",
        "\n",
        " * *Example*: Average marks of students.\n",
        "\n",
        "* Median: The middle value when data is sorted. Use it when data has outliers or is skewed.\n",
        "\n",
        " * *Example*: Median income in a population.\n",
        "\n",
        "* Mode: The most frequent value. Use it for categorical data or to find the most common value.\n",
        "\n",
        " * *Example*: Most purchased shoe size."
      ],
      "metadata": {
        "id": "KwkRNvUMj4NJ"
      }
    },
    {
      "cell_type": "markdown",
      "source": [
        "\n",
        "**3. Explain the concept of dispersion. How do variance and standard deviation measure the spread of data?**\n",
        "Dispersion measures how spread out the data is.\n",
        "\n",
        "* *Variance*: The average of the squared differences from the mean.\n",
        "\n",
        "* *Standard Deviation (SD)*: The square root of variance. Shows how much data varies from the mean.\n",
        "\n",
        "*Example*:\n",
        "If the SD is high, the data points are more spread out from the mean. If low, data points are closer to the mean."
      ],
      "metadata": {
        "id": "yI8xVDiEkL0o"
      }
    },
    {
      "cell_type": "markdown",
      "source": [
        "**4. What is a Box Plot?**\n",
        "\n",
        "A box plot is a graphical representation of the data’s distribution.\n",
        "\n",
        "*Shows* :\n",
        "\n",
        "* Minimum\n",
        "\n",
        "* First quartile (Q1)\n",
        "\n",
        "* Median (Q2)\n",
        "\n",
        "* Third quartile (Q3)\n",
        "\n",
        "* Maximum\n",
        "\n",
        "* Outliers\n",
        "\n",
        "It helps identify skewness and spread of data."
      ],
      "metadata": {
        "id": "Ghnp75a-ka_L"
      }
    },
    {
      "cell_type": "markdown",
      "source": [
        "**5. Discuss the role of random sampling in making inferences about populations.**\n",
        "* Random sampling ensures each member of the population has an equal chance of being selected.\n",
        "\n",
        "* Helps to make unbiased inferences about the population.\n",
        "\n",
        "* Reduces sampling bias and improves the accuracy of results."
      ],
      "metadata": {
        "id": "JsMLYrDsktdt"
      }
    },
    {
      "cell_type": "markdown",
      "source": [
        "**6. Explain the concept of skewness and its types. How does skewness affect the interpretation of data?**\n",
        "\n",
        "Skewness tells whether the data is symmetrical or asymmetrical.\n",
        "\n",
        "* *Positive Skew*: Tail on the right (e.g., income data)\n",
        "\n",
        "* *Negative Skew*: Tail on the left (e.g., exam scores)\n",
        "\n",
        "* *Zero Skew*: Symmetrical data (normal distribution)\n",
        "\n",
        "Effect: Skewness affects mean, median, and mode. In a skewed distribution, the mean moves toward the tail."
      ],
      "metadata": {
        "id": "JoIxTsSAlDGF"
      }
    },
    {
      "cell_type": "markdown",
      "source": [
        "**7. What is the interquartile range (IQR), and how is it used to detect outliers?**\n",
        "\n",
        "* IQR = Q3 - Q1It measures the middle 50% of the data.\n",
        "\n",
        "* Outliers are values that fall below Q1 - 1.5×IQR or above Q3 + 1.5×IQR.\n",
        "\n",
        "* Used to detect extreme values that might affect analysis."
      ],
      "metadata": {
        "id": "-npFYCmannjn"
      }
    },
    {
      "cell_type": "markdown",
      "source": [
        "**8. Discuss the conditions under which the binomial distribution is used.** :\n",
        "\n",
        "* There are fixed number of trials (n)\n",
        "\n",
        "* Each trial has only two outcomes (success/failure)\n",
        "\n",
        "* Trials are independent\n",
        "\n",
        "* Probability of success remains constant (p)\n",
        "\n",
        "*Example*: Tossing a coin 10 times and counting heads."
      ],
      "metadata": {
        "id": "QSMqPV1FnyWg"
      }
    },
    {
      "cell_type": "markdown",
      "source": [
        "**9. Explain the properties of the normal distribution and the empirical rule (68-95-99.7 rule).**\n",
        "\n",
        "* Empirical Rule (68-95-99.7 Rule):\n",
        "\n",
        "* 68% of data lies within ±1 SD from mean\n",
        "\n",
        "* 95% within ±2 SD\n",
        "\n",
        "* 99.7% within ±3 SD\n",
        "\n",
        "Used in many natural phenomena like height, test scores, etc."
      ],
      "metadata": {
        "id": "yF0dhK5goHQA"
      }
    },
    {
      "cell_type": "markdown",
      "source": [
        "**10. Provide a real-life example of a Poisson process and calculate the probability for a specific event**.\n",
        "\n",
        "Example: A call center receives 5 calls per hour (λ = 5).\n",
        "What is the probability of getting exactly 3 calls in one hour?"
      ],
      "metadata": {
        "id": "ZoBbg9RNoUZH"
      }
    },
    {
      "cell_type": "code",
      "source": [
        "from scipy.stats import poisson\n",
        "\n",
        "# Parameters\n",
        "lambda_val = 5\n",
        "k = 3\n",
        "\n",
        "# Probability calculation\n",
        "prob = poisson.pmf(k, lambda_val)\n",
        "print(f\"Probability of getting exactly 3 calls: {prob:.4f}\")\n"
      ],
      "metadata": {
        "colab": {
          "base_uri": "https://localhost:8080/"
        },
        "id": "G4FBOiCnorWJ",
        "outputId": "f4f53c10-48b9-410a-f8cb-215a31182948"
      },
      "execution_count": 1,
      "outputs": [
        {
          "output_type": "stream",
          "name": "stdout",
          "text": [
            "Probability of getting exactly 3 calls: 0.1404\n"
          ]
        }
      ]
    },
    {
      "cell_type": "markdown",
      "source": [
        "**11. Explain what a random variable is and differentiate between discrete and continuous random variables.**\n",
        "\n",
        " A random variable is a variable whose value depends on the outcome of a random event.\n",
        "\n",
        "* Discrete Random Variable: Takes specific values (e.g., number of kids)\n",
        "\n",
        "* Continuous Random Variable: Takes infinite values within a range (e.g., height, weight)"
      ],
      "metadata": {
        "id": "ur_5vWsiozZA"
      }
    },
    {
      "cell_type": "markdown",
      "source": [
        "**12. Provide an example dataset, calculate both covariance and correlation, and interpret the results.**"
      ],
      "metadata": {
        "id": "NV5ZLR_VpChO"
      }
    },
    {
      "cell_type": "code",
      "source": [
        "import numpy as np\n",
        "import pandas as pd\n",
        "\n",
        "# Example dataset\n",
        "x = [2, 4, 6, 8, 10]\n",
        "y = [1, 3, 7, 9, 11]\n",
        "\n",
        "# Convert to DataFrame\n",
        "df = pd.DataFrame({'X': x, 'Y': y})\n",
        "\n",
        "# Covariance\n",
        "covariance = df.cov().iloc[0,1]\n",
        "\n",
        "# Correlation\n",
        "correlation = df.corr().iloc[0,1]\n",
        "\n",
        "print(f\"Covariance: {covariance}\")\n",
        "print(f\"Correlation: {correlation}\")\n"
      ],
      "metadata": {
        "colab": {
          "base_uri": "https://localhost:8080/"
        },
        "id": "dh6IFlHspG-Y",
        "outputId": "bab963e5-37d7-4f61-87c9-bbb7c4fca5dd"
      },
      "execution_count": 2,
      "outputs": [
        {
          "output_type": "stream",
          "name": "stdout",
          "text": [
            "Covariance: 13.0\n",
            "Correlation: 0.9912407071619304\n"
          ]
        }
      ]
    }
  ]
}